{
 "cells": [
  {
   "cell_type": "code",
   "execution_count": 1,
   "metadata": {},
   "outputs": [],
   "source": [
    "from config import api_keys\n",
    "from citipy import citipy\n",
    "\n",
    "import random\n",
    "import requests\n",
    "\n",
    "import pandas as pd\n",
    "import numpy as np\n",
    "\n",
    "import matplotlib.pyplot as plt\n"
   ]
  },
  {
   "cell_type": "code",
   "execution_count": 2,
   "metadata": {
    "scrolled": true
   },
   "outputs": [
    {
     "data": {
      "text/plain": [
       "(14850, 2)"
      ]
     },
     "execution_count": 2,
     "metadata": {},
     "output_type": "execute_result"
    }
   ],
   "source": [
    "lat_zone = np.arange(-80,80,15)\n",
    "lon_zone = np.arange(-200,200,15)\n",
    "\n",
    "\n",
    "cities_df = pd.DataFrame()\n",
    "\n",
    "cities_df[\"Latitude\"] = \"\"\n",
    "cities_df[\"Longitude\"] = \"\"\n",
    "\n",
    "cities = {}\n",
    "\n",
    "for x in lat_zone:\n",
    "    for y in lon_zone:\n",
    "        x_values = list(np.arange(x,x+15,0.01))\n",
    "        y_values = list(np.arange(y,y+15,0.01))\n",
    "        lats = random.sample(x_values,50)\n",
    "        lons = random.sample(y_values,50)\n",
    "        lat_samples = [(x+dec_lat) for dec_lat in lats]\n",
    "        lon_samples = [y+dec_lon for dec_lon in lons]\n",
    "        cities_df = cities_df.append(pd.DataFrame.from_dict({\"Latitude\":lat_samples,\n",
    "                                       \"Longitude\":lon_samples}))\n",
    "cities_df = cities_df.reset_index(drop=True)\n",
    "cities_df.shape"
   ]
  },
  {
   "cell_type": "code",
   "execution_count": 3,
   "metadata": {},
   "outputs": [],
   "source": [
    "cities_df[\"Closest City name\"] = \"\"\n",
    "cities_df[\"Closest Country code\"] = \"\"\n",
    "for index,row in cities_df.iterrows():\n",
    "    city = citipy.nearest_city(row[\"Latitude\"],row[\"Longitude\"])\n",
    "    cities_df.set_value(index,\"Closest City name\",city.city_name)\n",
    "    cities_df.set_value(index,\"Closest Country code\",city.country_code)\n",
    "\n"
   ]
  },
  {
   "cell_type": "code",
   "execution_count": 4,
   "metadata": {},
   "outputs": [
    {
     "data": {
      "text/plain": [
       "(866, 2)"
      ]
     },
     "execution_count": 4,
     "metadata": {},
     "output_type": "execute_result"
    }
   ],
   "source": [
    "# Dropping random lat and lon samples from dataframe\n",
    "\n",
    "clean_cities_df = cities_df.drop(['Latitude', 'Longitude'],axis=1)\n",
    "clean_cities_df\n",
    "clean_cities_df = clean_cities_df.drop_duplicates()\n",
    "\n",
    "clean_cities_df.shape"
   ]
  },
  {
   "cell_type": "code",
   "execution_count": 5,
   "metadata": {
    "collapsed": true
   },
   "outputs": [],
   "source": [
    "selected_cities = clean_cities_df.sample(100)"
   ]
  },
  {
   "cell_type": "code",
   "execution_count": 6,
   "metadata": {},
   "outputs": [],
   "source": [
    "selected_cities = selected_cities.reset_index(drop=True)"
   ]
  },
  {
   "cell_type": "code",
   "execution_count": 7,
   "metadata": {},
   "outputs": [],
   "source": [
    "base_url = \"http://api.openweathermap.org/data/2.5/weather\"\n",
    "\n",
    "app_id=api_keys[\"open_weather_map\"]\n",
    "\n",
    "selected_cities[\"Latitude\"] = \"\"\n",
    "selected_cities[\"Longitude\"] = \"\"\n",
    "selected_cities[\"Temperature\"] = \"\"\n",
    "selected_cities[\"Humidity\"] = \"\"\n",
    "selected_cities[\"Cloudiness\"] = \"\"\n",
    "selected_cities[\"Wind speed\"] = \"\"\n",
    "\n",
    "params = {\n",
    "        \"appid\" :app_id\n",
    "    }\n",
    "\n",
    "\n"
   ]
  },
  {
   "cell_type": "code",
   "execution_count": null,
   "metadata": {},
   "outputs": [],
   "source": []
  },
  {
   "cell_type": "code",
   "execution_count": null,
   "metadata": {
    "collapsed": true
   },
   "outputs": [],
   "source": []
  }
 ],
 "metadata": {
  "kernelspec": {
   "display_name": "Python 3",
   "language": "python",
   "name": "python3"
  },
  "language_info": {
   "codemirror_mode": {
    "name": "ipython",
    "version": 3
   },
   "file_extension": ".py",
   "mimetype": "text/x-python",
   "name": "python",
   "nbconvert_exporter": "python",
   "pygments_lexer": "ipython3",
   "version": "3.6.2"
  }
 },
 "nbformat": 4,
 "nbformat_minor": 2
}
