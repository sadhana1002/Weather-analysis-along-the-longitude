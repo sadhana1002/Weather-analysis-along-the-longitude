{
 "cells": [
  {
   "cell_type": "code",
   "execution_count": 1,
   "metadata": {},
   "outputs": [],
   "source": [
    "from config import api_keys\n",
    "from citipy import citipy\n",
    "\n",
    "import random\n",
    "import requests\n",
    "\n",
    "import pandas as pd\n",
    "import numpy as np\n",
    "\n",
    "import matplotlib.pyplot as plt\n"
   ]
  },
  {
   "cell_type": "code",
   "execution_count": 2,
   "metadata": {
    "scrolled": true
   },
   "outputs": [
    {
     "data": {
      "text/plain": [
       "(14850, 2)"
      ]
     },
     "execution_count": 2,
     "metadata": {},
     "output_type": "execute_result"
    }
   ],
   "source": [
    "lat_zone = np.arange(-80,80,15)\n",
    "lon_zone = np.arange(-200,200,15)\n",
    "\n",
    "\n",
    "cities_df = pd.DataFrame()\n",
    "\n",
    "cities_df[\"Latitude\"] = \"\"\n",
    "cities_df[\"Longitude\"] = \"\"\n",
    "\n",
    "cities = {}\n",
    "\n",
    "for x in lat_zone:\n",
    "    for y in lon_zone:\n",
    "        x_values = list(np.arange(x,x+15,0.01))\n",
    "        y_values = list(np.arange(y,y+15,0.01))\n",
    "        lats = random.sample(x_values,50)\n",
    "        lons = random.sample(y_values,50)\n",
    "        lat_samples = [(x+dec_lat) for dec_lat in lats]\n",
    "        lon_samples = [y+dec_lon for dec_lon in lons]\n",
    "        cities_df = cities_df.append(pd.DataFrame.from_dict({\"Latitude\":lat_samples,\n",
    "                                       \"Longitude\":lon_samples}))\n",
    "cities_df = cities_df.reset_index(drop=True)\n",
    "cities_df.shape"
   ]
  },
  {
   "cell_type": "code",
   "execution_count": 3,
   "metadata": {},
   "outputs": [],
   "source": [
    "cities_df[\"Closest City name\"] = \"\"\n",
    "cities_df[\"Closest Country code\"] = \"\"\n",
    "for index,row in cities_df.iterrows():\n",
    "    city = citipy.nearest_city(row[\"Latitude\"],row[\"Longitude\"])\n",
    "    cities_df.set_value(index,\"Closest City name\",city.city_name)\n",
    "    cities_df.set_value(index,\"Closest Country code\",city.country_code)\n",
    "\n"
   ]
  },
  {
   "cell_type": "code",
   "execution_count": 4,
   "metadata": {},
   "outputs": [
    {
     "data": {
      "text/plain": [
       "(866, 2)"
      ]
     },
     "execution_count": 4,
     "metadata": {},
     "output_type": "execute_result"
    }
   ],
   "source": [
    "# Dropping random lat and lon samples from dataframe\n",
    "\n",
    "clean_cities_df = cities_df.drop(['Latitude', 'Longitude'],axis=1)\n",
    "clean_cities_df\n",
    "clean_cities_df = clean_cities_df.drop_duplicates()\n",
    "\n",
    "clean_cities_df.shape"
   ]
  },
  {
   "cell_type": "code",
   "execution_count": 5,
   "metadata": {
    "collapsed": true
   },
   "outputs": [],
   "source": [
    "selected_cities = clean_cities_df.sample(100)"
   ]
  },
  {
   "cell_type": "code",
   "execution_count": 6,
   "metadata": {},
   "outputs": [],
   "source": [
    "selected_cities = selected_cities.reset_index(drop=True)"
   ]
  },
  {
   "cell_type": "code",
   "execution_count": 7,
   "metadata": {},
   "outputs": [],
   "source": [
    "base_url = \"http://api.openweathermap.org/data/2.5/weather\"\n",
    "\n",
    "app_id=api_keys[\"open_weather_map\"]\n",
    "\n",
    "selected_cities[\"Latitude\"] = \"\"\n",
    "selected_cities[\"Longitude\"] = \"\"\n",
    "selected_cities[\"Temperature\"] = \"\"\n",
    "selected_cities[\"Humidity\"] = \"\"\n",
    "selected_cities[\"Cloudiness\"] = \"\"\n",
    "selected_cities[\"Wind speed\"] = \"\"\n",
    "\n",
    "params = {\n",
    "        \"appid\" :app_id\n",
    "    }\n",
    "\n",
    "\n"
   ]
  },
  {
   "cell_type": "code",
   "execution_count": 10,
   "metadata": {},
   "outputs": [
    {
     "name": "stdout",
     "output_type": "stream",
     "text": [
      "{'lon': -116.04, 'lat': 50.52}\n",
      "{'lon': -56.15, 'lat': 72.79}\n",
      "{'lon': 27.25, 'lat': 31.35}\n",
      "None\n",
      "{'lon': -1.15, 'lat': 60.15}\n",
      "{'lon': 20.04, 'lat': -34.53}\n",
      "{'lon': 88.17, 'lat': 57.31}\n",
      "{'lon': 50.01, 'lat': 34.69}\n",
      "{'lon': 32.92, 'lat': 0.38}\n",
      "{'lon': -68.3, 'lat': -54.8}\n",
      "{'lon': -63.6, 'lat': 50.23}\n",
      "{'lon': 148.25, 'lat': -8.75}\n",
      "{'lon': 153.1, 'lat': -26.53}\n",
      "{'lon': 62.49, 'lat': 52.54}\n",
      "None\n",
      "{'lon': -60.63, 'lat': -9.17}\n",
      "{'lon': -25.43, 'lat': 37.72}\n",
      "{'lon': -97.96, 'lat': 29.57}\n",
      "{'lon': 32.65, 'lat': 54.19}\n",
      "{'lon': 115.88, 'lat': 28.68}\n",
      "{'lon': 31.32, 'lat': 50.36}\n",
      "{'lon': 147.06, 'lat': -42.78}\n",
      "{'lon': 152.43, 'lat': 62.88}\n",
      "{'lon': 113.03, 'lat': 51.58}\n",
      "{'lon': 115.03, 'lat': 31.18}\n",
      "{'lon': -8.58, 'lat': 52.4}\n",
      "{'lon': -66.87, 'lat': 50.03}\n",
      "{'lon': -98.22, 'lat': 23.77}\n",
      "{'lon': -119.61, 'lat': 36.57}\n",
      "{'lon': 23.15, 'lat': 53.13}\n",
      "{'lon': 122.76, 'lat': 63.9}\n",
      "{'lon': 23.69, 'lat': 3.81}\n",
      "{'lon': 45.48, 'lat': -25.3}\n",
      "{'lon': -27.98, 'lat': 39.05}\n",
      "{'lon': -57.75, 'lat': -6.22}\n",
      "{'lon': -56.5, 'lat': -33.41}\n",
      "{'lon': 55.77, 'lat': -21.36}\n",
      "None\n",
      "{'lon': 49.95, 'lat': 54.2}\n",
      "{'lon': -73.65, 'lat': -37.62}\n",
      "{'lon': 112.47, 'lat': 63.01}\n",
      "{'lon': 173.86, 'lat': -39.46}\n",
      "{'lon': -84.28, 'lat': 22.29}\n",
      "{'lon': 61.65, 'lat': 69.75}\n",
      "{'lon': 91.08, 'lat': 56.27}\n",
      "{'lon': 142.84, 'lat': -4.24}\n",
      "{'lon': -53.46, 'lat': -33.7}\n",
      "None\n",
      "{'lon': -39.37, 'lat': -5.59}\n",
      "{'lon': 147.74, 'lat': -8.88}\n",
      "{'lon': 166.1, 'lat': 60.47}\n",
      "{'lon': 25.04, 'lat': 60.29}\n",
      "{'lon': -116.44, 'lat': 53.58}\n",
      "{'lon': -22.43, 'lat': 63.84}\n",
      "{'lon': 114.6, 'lat': -28.77}\n",
      "None\n",
      "{'lon': 57.44, 'lat': 52.23}\n",
      "{'lon': 150.47, 'lat': -35.35}\n",
      "{'lon': -1.76, 'lat': 4.88}\n",
      "{'lon': 145.78, 'lat': -7.96}\n",
      "{'lon': 84.43, 'lat': 27.68}\n",
      "{'lon': -68.4, 'lat': 49.12}\n",
      "{'lon': 143.12, 'lat': 49.22}\n",
      "{'lon': 117.63, 'lat': 62.14}\n",
      "{'lon': 25.74, 'lat': 35.01}\n",
      "None\n",
      "{'lon': -127.17, 'lat': 54.78}\n",
      "None\n",
      "None\n",
      "{'lon': 147.27, 'lat': -2.02}\n",
      "None\n",
      "{'lon': 178.42, 'lat': 69.38}\n",
      "{'lon': 128.87, 'lat': 71.69}\n",
      "{'lon': 53.58, 'lat': 63.44}\n",
      "{'lon': 80.75, 'lat': 26.23}\n",
      "None\n",
      "{'lon': 33.4, 'lat': -3.55}\n",
      "{'lon': 61.52, 'lat': 60.91}\n",
      "None\n",
      "{'lon': 52.8, 'lat': 53.57}\n",
      "{'lon': -25.67, 'lat': 37.73}\n",
      "{'lon': 30.42, 'lat': 31.4}\n",
      "None\n",
      "{'lon': -89.62, 'lat': -0.9}\n",
      "{'lon': 24.18, 'lat': -7.57}\n",
      "None\n",
      "{'lon': 152.95, 'lat': -27.08}\n",
      "{'lon': 118.57, 'lat': -20.32}\n",
      "{'lon': 30.72, 'lat': -3.59}\n",
      "{'lon': 84.27, 'lat': 49.74}\n",
      "{'lon': 117.15, 'lat': -0.5}\n",
      "{'lon': 19.23, 'lat': -34.42}\n",
      "None\n",
      "{'lon': 19.53, 'lat': -4.05}\n",
      "{'lon': 124.48, 'lat': -9.45}\n",
      "{'lon': 91.39, 'lat': 53.6}\n",
      "None\n",
      "{'lon': 114.36, 'lat': -8.23}\n",
      "{'lon': 10.66, 'lat': -3.43}\n",
      "{'lon': 17.94, 'lat': -33.01}\n"
     ]
    }
   ],
   "source": []
  },
  {
   "cell_type": "code",
   "execution_count": null,
   "metadata": {
    "collapsed": true
   },
   "outputs": [],
   "source": []
  }
 ],
 "metadata": {
  "kernelspec": {
   "display_name": "Python 3",
   "language": "python",
   "name": "python3"
  },
  "language_info": {
   "codemirror_mode": {
    "name": "ipython",
    "version": 3
   },
   "file_extension": ".py",
   "mimetype": "text/x-python",
   "name": "python",
   "nbconvert_exporter": "python",
   "pygments_lexer": "ipython3",
   "version": "3.6.2"
  }
 },
 "nbformat": 4,
 "nbformat_minor": 2
}
