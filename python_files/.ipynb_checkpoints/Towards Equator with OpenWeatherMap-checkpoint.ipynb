{
 "cells": [
  {
   "cell_type": "markdown",
   "metadata": {
    "collapsed": true
   },
   "source": [
    "# Weather analysis - Approaching Equator"
   ]
  },
  {
   "cell_type": "markdown",
   "metadata": {},
   "source": [
    "Data's true power lies in its ability to answer questions definitively. In this project, we are going to answer a fundamental question: \"What's the weather like as we approach the equator?\"\n",
    "\n",
    "Now, we all might think, \"Duh. It gets hotter...\"\n",
    "\n",
    "But let's try and prove it.\n",
    "\n",
    "NOTE: This project takes into account only the weather info from one particular day. This can be viewed as a proof as concept"
   ]
  },
  {
   "cell_type": "code",
   "execution_count": 1,
   "metadata": {
    "collapsed": true
   },
   "outputs": [],
   "source": [
    "#Import Dependencies\n",
    "from config import api_keys\n",
    "from citipy import citipy\n",
    "\n",
    "import random\n",
    "import requests\n",
    "\n",
    "import pandas as pd\n",
    "import numpy as np\n",
    "\n",
    "import matplotlib.pyplot as plt\n",
    "\n",
    "import matplotlib\n",
    "\n",
    "# Set style for plots\n",
    "plt.style.use(\"seaborn\")"
   ]
  },
  {
   "cell_type": "markdown",
   "metadata": {},
   "source": [
    "## Choosing representative sample set"
   ]
  },
  {
   "cell_type": "code",
   "execution_count": null,
   "metadata": {},
   "outputs": [
    {
     "data": {
      "text/plain": [
       "(16200, 2)"
      ]
     },
     "execution_count": 2,
     "metadata": {},
     "output_type": "execute_result"
    }
   ],
   "source": [
    "\n",
    "# Getting a sample that is representative of the world cities.\n",
    "\n",
    "# Set Lat & Lon Zones to randomly pick coordinates - So, we have some from each region.\n",
    "lat_zone = np.arange(-90,90,15)\n",
    "lon_zone = np.arange(-200,200,15)\n",
    "\n",
    "\n",
    "# Creating a new data frame to hold randomly picked coordinates and corresponding city information\n",
    "cities_df = pd.DataFrame()\n",
    "\n",
    "cities_df[\"Latitude\"] = \"\"\n",
    "cities_df[\"Longitude\"] = \"\"\n",
    "\n",
    "# From each zone, randomly pick 50 unique coordinates and adding to the dataframe.\n",
    "for x in lat_zone:\n",
    "    for y in lon_zone:\n",
    "        x_values = list(np.arange(x,x+15,0.01))\n",
    "        y_values = list(np.arange(y,y+15,0.01))\n",
    "        lats = random.sample(x_values,50)\n",
    "        lons = random.sample(y_values,50)\n",
    "        lat_samples = [(x+dec_lat) for dec_lat in lats]\n",
    "        lon_samples = [y+dec_lon for dec_lon in lons]\n",
    "        cities_df = cities_df.append(pd.DataFrame.from_dict({\"Latitude\":lat_samples,\n",
    "                                       \"Longitude\":lon_samples}))\n",
    "cities_df = cities_df.reset_index(drop=True)\n",
    "cities_df.shape"
   ]
  },
  {
   "cell_type": "code",
   "execution_count": null,
   "metadata": {
    "collapsed": true
   },
   "outputs": [],
   "source": [
    "# For the selected coordinates, use citipy to associate them with nearest city.\n",
    "\n",
    "cities_df[\"Closest City name\"] = \"\"\n",
    "cities_df[\"Closest Country code\"] = \"\"\n",
    "for index,row in cities_df.iterrows():\n",
    "    city = citipy.nearest_city(row[\"Latitude\"],row[\"Longitude\"])\n",
    "    cities_df.set_value(index,\"Closest City name\",city.city_name)\n",
    "    cities_df.set_value(index,\"Closest Country code\",city.country_code)\n"
   ]
  },
  {
   "cell_type": "code",
   "execution_count": null,
   "metadata": {},
   "outputs": [],
   "source": [
    "# Dropping random lat and lon samples from dataframe as they are not the exact coordinates for the cities.\n",
    "\n",
    "clean_cities_df = cities_df.drop(['Latitude', 'Longitude'],axis=1)\n",
    "clean_cities_df\n",
    "\n",
    "# Dropping duplicate cities which may have resulted in the previous step\n",
    "clean_cities_df = clean_cities_df.drop_duplicates()\n",
    "\n",
    "clean_cities_df.shape\n",
    "\n"
   ]
  },
  {
   "cell_type": "code",
   "execution_count": null,
   "metadata": {
    "collapsed": true
   },
   "outputs": [],
   "source": [
    "\n",
    "# Picking a sample of 500 cities to proceed with analysis\n",
    "selected_cities = clean_cities_df.sample(500)\n",
    "\n",
    "selected_cities = selected_cities.reset_index(drop=True)\n"
   ]
  },
  {
   "cell_type": "markdown",
   "metadata": {},
   "source": [
    "## Fetch City Weather info - OpenWeatherMap "
   ]
  },
  {
   "cell_type": "code",
   "execution_count": null,
   "metadata": {
    "collapsed": true
   },
   "outputs": [],
   "source": [
    "# Setting up values for OpenWeatherMap API calls\n",
    "base_url = \"http://api.openweathermap.org/data/2.5/weather\"\n",
    "\n",
    "app_id = api_keys[\"open_weather_map_common\"]\n",
    "\n",
    "params = { \"appid\" :app_id,\"units\":\"metric\" }"
   ]
  },
  {
   "cell_type": "code",
   "execution_count": null,
   "metadata": {
    "collapsed": true
   },
   "outputs": [],
   "source": [
    "# SAMPLE JSON RESPONSE - \n",
    "#{\"coord\":{\"lon\":-0.13,\"lat\":51.51},\n",
    "#\"weather\":[{\"id\":300,\"main\":\"Drizzle\",\"description\":\"light intensity drizzle\",\"icon\":\"09d\"}],\n",
    "#\"base\":\"stations\",\n",
    "#\"main\":{\"temp\":280.32,\"pressure\":1012,\"humidity\":81,\"temp_min\":279.15,\"temp_max\":281.15},\n",
    "#\"visibility\":10000,\n",
    "# \"wind\":{\"speed\":4.1,\"deg\":80},\n",
    "# \"clouds\":{\"all\":90},\n",
    "# \"dt\":1485789600,\n",
    "# \"sys\":{\"type\":1,\"id\":5091,\"message\":0.0103,\"country\":\"GB\",\"sunrise\":1485762037,\"sunset\":1485794875},\n",
    "# \"id\":2643743,\"name\":\"London\",\"cod\":200}\n",
    "\n",
    "def encrypt_key(input_url):\n",
    "    return input_url[0:53]+\"<YourKey>\"+input_url[85:]\n",
    "\n",
    "for index,row in selected_cities.iterrows():\n",
    "    params[\"q\"] =f'{row[\"Closest City name\"]},{row[\"Closest Country code\"]}'\n",
    "    print(f\"Retrieving weather information for {params['q']}\")\n",
    "    city_weather_resp = requests.get(base_url,params)\n",
    "    print(encrypt_key(city_weather_resp.url))\n",
    "    city_weather_resp  = city_weather_resp.json()\n",
    "    selected_cities.set_value(index,\"Latitude\",city_weather_resp.get(\"coord\",{}).get(\"lat\"))\n",
    "    selected_cities.set_value(index,\"Longitude\",city_weather_resp.get(\"coord\",{}).get(\"lon\"))\n",
    "    selected_cities.set_value(index,\"Temperature\",city_weather_resp.get(\"main\",{}).get(\"temp_max\"))\n",
    "    selected_cities.set_value(index,\"Wind speed\",city_weather_resp.get(\"wind\",{}).get(\"speed\"))\n",
    "    selected_cities.set_value(index,\"Humidity\",city_weather_resp.get(\"main\",{}).get(\"humidity\"))\n",
    "    selected_cities.set_value(index,\"Cloudiness\",city_weather_resp.get(\"clouds\",{}).get(\"all\"))\n",
    "    \n"
   ]
  },
  {
   "cell_type": "code",
   "execution_count": null,
   "metadata": {
    "collapsed": true
   },
   "outputs": [],
   "source": [
    "# Drop cities with missing information\n",
    "selected_cities = selected_cities.dropna()\n",
    "\n",
    "selected_cities.shape\n",
    "selected_cities.to_csv(\"City_Weather_data.csv\")"
   ]
  },
  {
   "cell_type": "markdown",
   "metadata": {},
   "source": [
    "## Analysing Weather Features"
   ]
  },
  {
   "cell_type": "code",
   "execution_count": null,
   "metadata": {
    "collapsed": true
   },
   "outputs": [],
   "source": [
    "# Plot settings\n",
    "def set_plot_prop(x_title,x_lim,y_title):\n",
    "    plt.title(f\"{y_title} vs {x_title}\")\n",
    "    plt.ylabel(y_title)\n",
    "    plt.xlabel(x_title)\n",
    "    plt.grid(True)\n",
    "    plt.xlim(x_lim)"
   ]
  },
  {
   "cell_type": "markdown",
   "metadata": {},
   "source": [
    "###   1. Temperature vs Latitude"
   ]
  },
  {
   "cell_type": "code",
   "execution_count": null,
   "metadata": {},
   "outputs": [],
   "source": [
    "# Temperature vs Latitude \n",
    "selected_cities.plot(kind=\"scatter\",x=\"Latitude\",y=\"Temperature\",grid=True,color=\"blue\")"
   ]
  },
  {
   "cell_type": "code",
   "execution_count": null,
   "metadata": {},
   "outputs": [],
   "source": [
    "set_plot_prop(\"Latitude\",[-90,90],\"Temperature (Celsius)\")\n",
    "plt.axvline(0, color='black',alpha=0.5)\n",
    "plt.savefig(\"Temperature vs Latitude\")\n",
    "plt.show()"
   ]
  },
  {
   "cell_type": "markdown",
   "metadata": {},
   "source": [
    "#### Observation # 1 - Temperature is at it's peak around equator. This clearly shows that temperature increases as it approaches equator"
   ]
  },
  {
   "cell_type": "markdown",
   "metadata": {},
   "source": [
    "###   2. Humidity vs Latitude"
   ]
  },
  {
   "cell_type": "code",
   "execution_count": null,
   "metadata": {},
   "outputs": [],
   "source": [
    "# Humidity vs Latitude \n",
    "\n",
    "selected_cities.plot(kind=\"scatter\",x=\"Latitude\",y=\"Humidity\",grid=True,color=\"blue\")"
   ]
  },
  {
   "cell_type": "code",
   "execution_count": null,
   "metadata": {},
   "outputs": [],
   "source": [
    "set_plot_prop(\"Latitude\",[-90,90],\"Humidity\")\n",
    "plt.axvline(0, color='black',alpha=0.5)\n",
    "plt.savefig(\"Humidity vs Latitude\")\n",
    "plt.show()"
   ]
  },
  {
   "cell_type": "markdown",
   "metadata": {},
   "source": [
    "#### Observation # 2 - Humidity around Equator seems to be in the range on 25 - 100, which is pretty similar to parts far from Equator"
   ]
  },
  {
   "cell_type": "markdown",
   "metadata": {},
   "source": [
    "###   3. Wind Speed vs Latitude "
   ]
  },
  {
   "cell_type": "code",
   "execution_count": null,
   "metadata": {},
   "outputs": [],
   "source": [
    "# Wind speed vs Latitude\n",
    "selected_cities[\"Wind speed\"] = pd.to_numeric(selected_cities[\"Wind speed\"])\n",
    "selected_cities.plot(kind=\"scatter\",x=\"Latitude\",y=\"Wind speed\",grid=True,color=\"blue\")"
   ]
  },
  {
   "cell_type": "code",
   "execution_count": null,
   "metadata": {},
   "outputs": [],
   "source": [
    "set_plot_prop(\"Latitude\",[-90,90],\"Wind speed (mph)\")\n",
    "plt.axvline(0, color='black',alpha=0.5)\n",
    "plt.savefig(\"Wind speed vs Latitude\")\n",
    "plt.show()"
   ]
  },
  {
   "cell_type": "markdown",
   "metadata": {},
   "source": [
    "#### Observation # 3 - Wind speed for most cities seem to fall under 10 mph. This is not different around equator"
   ]
  },
  {
   "cell_type": "markdown",
   "metadata": {},
   "source": [
    "###   4. Cloudiness vs Latitude"
   ]
  },
  {
   "cell_type": "code",
   "execution_count": null,
   "metadata": {},
   "outputs": [],
   "source": [
    "# Cloudiness vs Latitude\n",
    "selected_cities[\"Cloudiness\"] = pd.to_numeric(selected_cities[\"Cloudiness\"])\n",
    "selected_cities.plot(kind=\"scatter\",x=\"Latitude\",y=\"Cloudiness\",grid=True,color=\"blue\")"
   ]
  },
  {
   "cell_type": "code",
   "execution_count": null,
   "metadata": {},
   "outputs": [],
   "source": [
    "set_plot_prop(\"Latitude\",[-90,90],\"Cloudiness\")\n",
    "plt.axvline(0, color='black',alpha=0.5)\n",
    "plt.savefig(\"Cloudiness vs Latitude\")\n",
    "plt.show()"
   ]
  },
  {
   "cell_type": "markdown",
   "metadata": {},
   "source": [
    "#### Observation # 4 - Cloudiness seems well spread out for this day. No correlation visible with latitude "
   ]
  },
  {
   "cell_type": "markdown",
   "metadata": {},
   "source": [
    "## Temperature approaching equator"
   ]
  },
  {
   "cell_type": "code",
   "execution_count": null,
   "metadata": {},
   "outputs": [],
   "source": [
    "# Temperature approaching equator\n",
    "size_temp = np.round((((selected_cities.Temperature)/100)**2)*10,2)\n",
    "\n",
    "selected_cities.plot(kind=\"scatter\",x=\"Longitude\",y=\"Latitude\",grid=True, edgecolor=\"black\",\n",
    "                     c=size_temp,s=200,cmap=plt.cm.YlOrRd)\n",
    "plt.xlabel(\"Longitude\")\n",
    "plt.tight_layout()\n",
    "plt.title(\"Temperature along Longitude and Latitude\")\n",
    "plt.ylabel(\"Latitude\")\n",
    "plt.ylim([-85,85])\n",
    "plt.grid(True)\n",
    "\n",
    "plt.xlim([-200,200])\n",
    "plt.subplots_adjust(bottom=.25, left=.25)\n",
    "\n",
    "plt.axhline(0, color='black',alpha=0.5)\n",
    "plt.savefig(\"Temperature approaching Equator\")\n",
    "\n",
    "plt.show()"
   ]
  },
  {
   "cell_type": "markdown",
   "metadata": {},
   "source": [
    "### Conclusive Observation "
   ]
  },
  {
   "cell_type": "markdown",
   "metadata": {},
   "source": [
    "The Temperature along Latitude and Longitude chart clearly represents that the the zone around the equator line has most of the red points, which indicates hotter temperatures. So, we can come to a conclusion that temperature gets hotter as it approaches the equator."
   ]
  }
 ],
 "metadata": {
  "kernelspec": {
   "display_name": "Python 3",
   "language": "python",
   "name": "python3"
  },
  "language_info": {
   "codemirror_mode": {
    "name": "ipython",
    "version": 3
   },
   "file_extension": ".py",
   "mimetype": "text/x-python",
   "name": "python",
   "nbconvert_exporter": "python",
   "pygments_lexer": "ipython3",
   "version": "3.6.2"
  }
 },
 "nbformat": 4,
 "nbformat_minor": 2
}
